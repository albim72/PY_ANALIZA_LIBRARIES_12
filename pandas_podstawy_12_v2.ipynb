{
 "cells":[
  {
   "cell_type":"code",
   "source":[
    "#podstawowe struktury danych biblioteki PANDAS\n",
    "import pandas as pd\n",
    "import numpy as np"
   ],
   "execution_count":31,
   "outputs":[],
   "metadata":{
    "datalore":{
     "node_id":"BCgbVgiA2jivli38Aa5Hib",
     "type":"CODE",
     "hide_input_from_viewers":true,
     "hide_output_from_viewers":true
    }
   }
  },
  {
   "cell_type":"code",
   "source":[
    "#struktura Series\n",
    "obj = pd.Series([4,11,-5,10])\n",
    "obj"
   ],
   "execution_count":32,
   "outputs":[
    {
     "data":{
      "text\/html":[
       "<pre>0     4\n",
       "1    11\n",
       "2    -5\n",
       "3    10\n",
       "dtype: int64<\/pre>"
      ]
     },
     "metadata":{},
     "output_type":"display_data"
    }
   ],
   "metadata":{
    "datalore":{
     "node_id":"X9W1Fc3nvQoo1t8M5FRHLZ",
     "type":"CODE",
     "hide_input_from_viewers":true,
     "hide_output_from_viewers":true
    }
   }
  },
  {
   "cell_type":"code",
   "source":[
    "obj.values"
   ],
   "execution_count":33,
   "outputs":[
    {
     "data":{
      "text\/html":[
       "<pre>array([ 4, 11, -5, 10])<\/pre>"
      ]
     },
     "metadata":{},
     "output_type":"display_data"
    }
   ],
   "metadata":{
    "datalore":{
     "node_id":"kglG2Jvaq4UC7xEvAPcSK9",
     "type":"CODE",
     "hide_input_from_viewers":true,
     "hide_output_from_viewers":true
    }
   }
  },
  {
   "cell_type":"code",
   "source":[
    "obj.index"
   ],
   "execution_count":34,
   "outputs":[
    {
     "data":{
      "text\/plain":[
       "RangeIndex(start=0, stop=4, step=1)"
      ]
     },
     "metadata":{},
     "output_type":"display_data"
    }
   ],
   "metadata":{
    "datalore":{
     "node_id":"xtw3NXnISYCSrRrq4qppPk",
     "type":"CODE",
     "hide_input_from_viewers":true,
     "hide_output_from_viewers":true
    }
   }
  },
  {
   "cell_type":"code",
   "source":[
    "obj2 = pd.Series([4,7,-5,3], index=['a','b','cos','tam'])\n",
    "obj2"
   ],
   "execution_count":35,
   "outputs":[
    {
     "data":{
      "text\/html":[
       "<pre>a      4\n",
       "b      7\n",
       "cos   -5\n",
       "tam    3\n",
       "dtype: int64<\/pre>"
      ]
     },
     "metadata":{},
     "output_type":"display_data"
    }
   ],
   "metadata":{
    "datalore":{
     "node_id":"6ZukUilGk0FnxgyJP7pYQZ",
     "type":"CODE",
     "hide_input_from_viewers":true,
     "hide_output_from_viewers":true
    }
   }
  },
  {
   "cell_type":"code",
   "source":[
    "obj2['a']"
   ],
   "execution_count":36,
   "outputs":[
    {
     "data":{
      "text\/plain":[
       "4"
      ]
     },
     "metadata":{},
     "output_type":"display_data"
    }
   ],
   "metadata":{
    "datalore":{
     "node_id":"s3Yt53mUries9DZklCOKDI",
     "type":"CODE",
     "hide_input_from_viewers":true,
     "hide_output_from_viewers":true
    }
   }
  },
  {
   "cell_type":"code",
   "source":[
    "obj2['k'] = 144\n",
    "obj2"
   ],
   "execution_count":37,
   "outputs":[
    {
     "data":{
      "text\/html":[
       "<pre>a        4\n",
       "b        7\n",
       "cos     -5\n",
       "tam      3\n",
       "k      144\n",
       "dtype: int64<\/pre>"
      ]
     },
     "metadata":{},
     "output_type":"display_data"
    }
   ],
   "metadata":{
    "datalore":{
     "node_id":"pHzhDH5NnF2b7ATDuCracx",
     "type":"CODE",
     "hide_input_from_viewers":true,
     "hide_output_from_viewers":true
    }
   }
  },
  {
   "cell_type":"code",
   "source":[
    "obj2[['tam','b','a']]"
   ],
   "execution_count":38,
   "outputs":[
    {
     "data":{
      "text\/html":[
       "<pre>tam    3\n",
       "b      7\n",
       "a      4\n",
       "dtype: int64<\/pre>"
      ]
     },
     "metadata":{},
     "output_type":"display_data"
    }
   ],
   "metadata":{
    "datalore":{
     "node_id":"0pR5nLdaPhXppAq4cBEzRI",
     "type":"CODE",
     "hide_input_from_viewers":true,
     "hide_output_from_viewers":true
    }
   }
  },
  {
   "cell_type":"code",
   "source":[
    "obj2[obj2>5]"
   ],
   "execution_count":39,
   "outputs":[
    {
     "data":{
      "text\/html":[
       "<pre>b      7\n",
       "k    144\n",
       "dtype: int64<\/pre>"
      ]
     },
     "metadata":{},
     "output_type":"display_data"
    }
   ],
   "metadata":{
    "datalore":{
     "node_id":"r4GFhQm3x2ZfZNzhJ04cpB",
     "type":"CODE",
     "hide_input_from_viewers":true,
     "hide_output_from_viewers":true
    }
   }
  },
  {
   "cell_type":"code",
   "source":[
    "obj2*3"
   ],
   "execution_count":40,
   "outputs":[
    {
     "data":{
      "text\/html":[
       "<pre>a       12\n",
       "b       21\n",
       "cos    -15\n",
       "tam      9\n",
       "k      432\n",
       "dtype: int64<\/pre>"
      ]
     },
     "metadata":{},
     "output_type":"display_data"
    }
   ],
   "metadata":{
    "datalore":{
     "node_id":"TrqqB8eSKGhtcNZRVS3ypF",
     "type":"CODE",
     "hide_input_from_viewers":true,
     "hide_output_from_viewers":true
    }
   }
  },
  {
   "cell_type":"code",
   "source":[
    "'a' in obj2"
   ],
   "execution_count":41,
   "outputs":[
    {
     "data":{
      "text\/plain":[
       "True"
      ]
     },
     "metadata":{},
     "output_type":"display_data"
    }
   ],
   "metadata":{
    "datalore":{
     "node_id":"semfBsQJfysRUFJXJK0s8U",
     "type":"CODE",
     "hide_input_from_viewers":true,
     "hide_output_from_viewers":true
    }
   }
  },
  {
   "cell_type":"code",
   "source":[
    "'p' in obj2"
   ],
   "execution_count":42,
   "outputs":[
    {
     "data":{
      "text\/plain":[
       "False"
      ]
     },
     "metadata":{},
     "output_type":"display_data"
    }
   ],
   "metadata":{
    "datalore":{
     "node_id":"4KQW81eAMgoEq26718ROpx",
     "type":"CODE",
     "hide_input_from_viewers":true,
     "hide_output_from_viewers":true
    }
   }
  },
  {
   "cell_type":"code",
   "source":[
    "sdata = {'Warszawa':44673,'Kraków':43564,'Lublin':39900,'Gdańsk':41900}"
   ],
   "execution_count":43,
   "outputs":[],
   "metadata":{
    "datalore":{
     "node_id":"mazAi1Lgy39v4PzELgthF3",
     "type":"CODE",
     "hide_input_from_viewers":true,
     "hide_output_from_viewers":true
    }
   }
  },
  {
   "cell_type":"code",
   "source":[
    "obj3 = pd.Series(sdata)\n",
    "obj3"
   ],
   "execution_count":44,
   "outputs":[
    {
     "data":{
      "text\/html":[
       "<pre>Warszawa    44673\n",
       "Kraków      43564\n",
       "Lublin      39900\n",
       "Gdańsk      41900\n",
       "dtype: int64<\/pre>"
      ]
     },
     "metadata":{},
     "output_type":"display_data"
    }
   ],
   "metadata":{
    "datalore":{
     "node_id":"66omsYV3oz5Pzjo18jMSQn",
     "type":"CODE",
     "hide_input_from_viewers":true,
     "hide_output_from_viewers":true
    }
   }
  },
  {
   "cell_type":"code",
   "source":[
    "miasta = [\"Poznań\",\"Kraków\",\"Rzeszów\",\"Lublin\"]\n",
    "obj4 = pd.Series(sdata,index=miasta)\n",
    "obj4"
   ],
   "execution_count":45,
   "outputs":[
    {
     "data":{
      "text\/html":[
       "<pre>Poznań         NaN\n",
       "Kraków     43564.0\n",
       "Rzeszów        NaN\n",
       "Lublin     39900.0\n",
       "dtype: float64<\/pre>"
      ]
     },
     "metadata":{},
     "output_type":"display_data"
    }
   ],
   "metadata":{
    "datalore":{
     "node_id":"fAOh2tMemIvOjf0IvpkATc",
     "type":"CODE",
     "hide_input_from_viewers":true,
     "hide_output_from_viewers":true
    }
   }
  },
  {
   "cell_type":"code",
   "source":[
    "pd.isnull(obj4)"
   ],
   "execution_count":46,
   "outputs":[
    {
     "data":{
      "text\/html":[
       "<pre>Poznań      True\n",
       "Kraków     False\n",
       "Rzeszów     True\n",
       "Lublin     False\n",
       "dtype: bool<\/pre>"
      ]
     },
     "metadata":{},
     "output_type":"display_data"
    }
   ],
   "metadata":{
    "datalore":{
     "node_id":"PFeuDOvAIhI5ENDa4obrS6",
     "type":"CODE",
     "hide_input_from_viewers":true,
     "hide_output_from_viewers":true
    }
   }
  },
  {
   "cell_type":"code",
   "source":[
    "obj3+obj4"
   ],
   "execution_count":47,
   "outputs":[
    {
     "data":{
      "text\/html":[
       "<pre>Gdańsk          NaN\n",
       "Kraków      87128.0\n",
       "Lublin      79800.0\n",
       "Poznań          NaN\n",
       "Rzeszów         NaN\n",
       "Warszawa        NaN\n",
       "dtype: float64<\/pre>"
      ]
     },
     "metadata":{},
     "output_type":"display_data"
    }
   ],
   "metadata":{
    "datalore":{
     "node_id":"PYCgOKZeoMf4ChB9o9ypjt",
     "type":"CODE",
     "hide_input_from_viewers":true,
     "hide_output_from_viewers":true
    }
   }
  },
  {
   "cell_type":"code",
   "source":[
    "#obiekt DataFrame\n",
    "dataf = {\n",
    "    'miasto':['Warszawa','Warszawa','Warszawa','Kraków','Kraków','Kraków'],\n",
    "    'rok':[2017,2018,2019,2018,2019,2020],\n",
    "    'populacja':[2.7,2.75,2.93,0.85,0.88,0.91]\n",
    "}\n",
    "\n",
    "frame = pd.DataFrame(dataf)\n",
    "frame"
   ],
   "execution_count":48,
   "outputs":[
    {
     "data":{
      "text\/html":[
       "<div>\n",
       "<style scoped>\n",
       "    .dataframe tbody tr th:only-of-type {\n",
       "        vertical-align: middle;\n",
       "    }\n",
       "\n",
       "    .dataframe tbody tr th {\n",
       "        vertical-align: top;\n",
       "    }\n",
       "\n",
       "    .dataframe thead th {\n",
       "        text-align: right;\n",
       "    }\n",
       "<\/style>\n",
       "<table border=\"1\" class=\"dataframe\">\n",
       "  <thead>\n",
       "    <tr style=\"text-align: right;\">\n",
       "      <th><\/th>\n",
       "      <th>miasto<\/th>\n",
       "      <th>rok<\/th>\n",
       "      <th>populacja<\/th>\n",
       "    <\/tr>\n",
       "  <\/thead>\n",
       "  <tbody>\n",
       "    <tr>\n",
       "      <th>0<\/th>\n",
       "      <td>Warszawa<\/td>\n",
       "      <td>2017<\/td>\n",
       "      <td>2.70<\/td>\n",
       "    <\/tr>\n",
       "    <tr>\n",
       "      <th>1<\/th>\n",
       "      <td>Warszawa<\/td>\n",
       "      <td>2018<\/td>\n",
       "      <td>2.75<\/td>\n",
       "    <\/tr>\n",
       "    <tr>\n",
       "      <th>2<\/th>\n",
       "      <td>Warszawa<\/td>\n",
       "      <td>2019<\/td>\n",
       "      <td>2.93<\/td>\n",
       "    <\/tr>\n",
       "    <tr>\n",
       "      <th>3<\/th>\n",
       "      <td>Kraków<\/td>\n",
       "      <td>2018<\/td>\n",
       "      <td>0.85<\/td>\n",
       "    <\/tr>\n",
       "    <tr>\n",
       "      <th>4<\/th>\n",
       "      <td>Kraków<\/td>\n",
       "      <td>2019<\/td>\n",
       "      <td>0.88<\/td>\n",
       "    <\/tr>\n",
       "    <tr>\n",
       "      <th>5<\/th>\n",
       "      <td>Kraków<\/td>\n",
       "      <td>2020<\/td>\n",
       "      <td>0.91<\/td>\n",
       "    <\/tr>\n",
       "  <\/tbody>\n",
       "<\/table>\n",
       "<\/div>"
      ]
     },
     "metadata":{},
     "output_type":"display_data"
    }
   ],
   "metadata":{
    "datalore":{
     "node_id":"HBcy4kur2oxZAU09Qs3yo4",
     "type":"CODE",
     "hide_input_from_viewers":true,
     "hide_output_from_viewers":true
    }
   }
  },
  {
   "cell_type":"code",
   "source":[
    "frame2 = pd.DataFrame(dataf,columns=['rok','miasto','populacja','współczynnik wagi'],\n",
    "                      index=['jeden','dwa','trzy','cztery','pięc','sześc'])\n",
    "frame2"
   ],
   "execution_count":49,
   "outputs":[
    {
     "data":{
      "text\/html":[
       "<div>\n",
       "<style scoped>\n",
       "    .dataframe tbody tr th:only-of-type {\n",
       "        vertical-align: middle;\n",
       "    }\n",
       "\n",
       "    .dataframe tbody tr th {\n",
       "        vertical-align: top;\n",
       "    }\n",
       "\n",
       "    .dataframe thead th {\n",
       "        text-align: right;\n",
       "    }\n",
       "<\/style>\n",
       "<table border=\"1\" class=\"dataframe\">\n",
       "  <thead>\n",
       "    <tr style=\"text-align: right;\">\n",
       "      <th><\/th>\n",
       "      <th>rok<\/th>\n",
       "      <th>miasto<\/th>\n",
       "      <th>populacja<\/th>\n",
       "      <th>współczynnik wagi<\/th>\n",
       "    <\/tr>\n",
       "  <\/thead>\n",
       "  <tbody>\n",
       "    <tr>\n",
       "      <th>jeden<\/th>\n",
       "      <td>2017<\/td>\n",
       "      <td>Warszawa<\/td>\n",
       "      <td>2.70<\/td>\n",
       "      <td>NaN<\/td>\n",
       "    <\/tr>\n",
       "    <tr>\n",
       "      <th>dwa<\/th>\n",
       "      <td>2018<\/td>\n",
       "      <td>Warszawa<\/td>\n",
       "      <td>2.75<\/td>\n",
       "      <td>NaN<\/td>\n",
       "    <\/tr>\n",
       "    <tr>\n",
       "      <th>trzy<\/th>\n",
       "      <td>2019<\/td>\n",
       "      <td>Warszawa<\/td>\n",
       "      <td>2.93<\/td>\n",
       "      <td>NaN<\/td>\n",
       "    <\/tr>\n",
       "    <tr>\n",
       "      <th>cztery<\/th>\n",
       "      <td>2018<\/td>\n",
       "      <td>Kraków<\/td>\n",
       "      <td>0.85<\/td>\n",
       "      <td>NaN<\/td>\n",
       "    <\/tr>\n",
       "    <tr>\n",
       "      <th>pięc<\/th>\n",
       "      <td>2019<\/td>\n",
       "      <td>Kraków<\/td>\n",
       "      <td>0.88<\/td>\n",
       "      <td>NaN<\/td>\n",
       "    <\/tr>\n",
       "    <tr>\n",
       "      <th>sześc<\/th>\n",
       "      <td>2020<\/td>\n",
       "      <td>Kraków<\/td>\n",
       "      <td>0.91<\/td>\n",
       "      <td>NaN<\/td>\n",
       "    <\/tr>\n",
       "  <\/tbody>\n",
       "<\/table>\n",
       "<\/div>"
      ]
     },
     "metadata":{},
     "output_type":"display_data"
    }
   ],
   "metadata":{
    "datalore":{
     "node_id":"XETFEReVWKntYeRrC49a0O",
     "type":"CODE",
     "hide_input_from_viewers":true,
     "hide_output_from_viewers":true
    }
   }
  },
  {
   "cell_type":"code",
   "source":[
    "frame2['współczynnik wagi'] = 19.99\n",
    "frame2"
   ],
   "execution_count":50,
   "outputs":[
    {
     "data":{
      "text\/html":[
       "<div>\n",
       "<style scoped>\n",
       "    .dataframe tbody tr th:only-of-type {\n",
       "        vertical-align: middle;\n",
       "    }\n",
       "\n",
       "    .dataframe tbody tr th {\n",
       "        vertical-align: top;\n",
       "    }\n",
       "\n",
       "    .dataframe thead th {\n",
       "        text-align: right;\n",
       "    }\n",
       "<\/style>\n",
       "<table border=\"1\" class=\"dataframe\">\n",
       "  <thead>\n",
       "    <tr style=\"text-align: right;\">\n",
       "      <th><\/th>\n",
       "      <th>rok<\/th>\n",
       "      <th>miasto<\/th>\n",
       "      <th>populacja<\/th>\n",
       "      <th>współczynnik wagi<\/th>\n",
       "    <\/tr>\n",
       "  <\/thead>\n",
       "  <tbody>\n",
       "    <tr>\n",
       "      <th>jeden<\/th>\n",
       "      <td>2017<\/td>\n",
       "      <td>Warszawa<\/td>\n",
       "      <td>2.70<\/td>\n",
       "      <td>19.99<\/td>\n",
       "    <\/tr>\n",
       "    <tr>\n",
       "      <th>dwa<\/th>\n",
       "      <td>2018<\/td>\n",
       "      <td>Warszawa<\/td>\n",
       "      <td>2.75<\/td>\n",
       "      <td>19.99<\/td>\n",
       "    <\/tr>\n",
       "    <tr>\n",
       "      <th>trzy<\/th>\n",
       "      <td>2019<\/td>\n",
       "      <td>Warszawa<\/td>\n",
       "      <td>2.93<\/td>\n",
       "      <td>19.99<\/td>\n",
       "    <\/tr>\n",
       "    <tr>\n",
       "      <th>cztery<\/th>\n",
       "      <td>2018<\/td>\n",
       "      <td>Kraków<\/td>\n",
       "      <td>0.85<\/td>\n",
       "      <td>19.99<\/td>\n",
       "    <\/tr>\n",
       "    <tr>\n",
       "      <th>pięc<\/th>\n",
       "      <td>2019<\/td>\n",
       "      <td>Kraków<\/td>\n",
       "      <td>0.88<\/td>\n",
       "      <td>19.99<\/td>\n",
       "    <\/tr>\n",
       "    <tr>\n",
       "      <th>sześc<\/th>\n",
       "      <td>2020<\/td>\n",
       "      <td>Kraków<\/td>\n",
       "      <td>0.91<\/td>\n",
       "      <td>19.99<\/td>\n",
       "    <\/tr>\n",
       "  <\/tbody>\n",
       "<\/table>\n",
       "<\/div>"
      ]
     },
     "metadata":{},
     "output_type":"display_data"
    }
   ],
   "metadata":{
    "datalore":{
     "node_id":"SxFzfJLr6GQYE3zb0jgIFm",
     "type":"CODE",
     "hide_input_from_viewers":true,
     "hide_output_from_viewers":true
    }
   }
  },
  {
   "cell_type":"code",
   "source":[
    "frame2['współczynnik wagi'] = np.array([15.6,17.33,1.1,6.7,0.44,2])"
   ],
   "execution_count":55,
   "outputs":[],
   "metadata":{
    "datalore":{
     "node_id":"tclLDdo4dy5UzIbN4MxyGd",
     "type":"CODE",
     "hide_input_from_viewers":true,
     "hide_output_from_viewers":true
    }
   }
  },
  {
   "cell_type":"code",
   "source":[
    "frame2"
   ],
   "execution_count":56,
   "outputs":[
    {
     "data":{
      "text\/html":[
       "<div>\n",
       "<style scoped>\n",
       "    .dataframe tbody tr th:only-of-type {\n",
       "        vertical-align: middle;\n",
       "    }\n",
       "\n",
       "    .dataframe tbody tr th {\n",
       "        vertical-align: top;\n",
       "    }\n",
       "\n",
       "    .dataframe thead th {\n",
       "        text-align: right;\n",
       "    }\n",
       "<\/style>\n",
       "<table border=\"1\" class=\"dataframe\">\n",
       "  <thead>\n",
       "    <tr style=\"text-align: right;\">\n",
       "      <th><\/th>\n",
       "      <th>rok<\/th>\n",
       "      <th>miasto<\/th>\n",
       "      <th>populacja<\/th>\n",
       "      <th>współczynnik wagi<\/th>\n",
       "    <\/tr>\n",
       "  <\/thead>\n",
       "  <tbody>\n",
       "    <tr>\n",
       "      <th>jeden<\/th>\n",
       "      <td>2017<\/td>\n",
       "      <td>Warszawa<\/td>\n",
       "      <td>2.70<\/td>\n",
       "      <td>15.60<\/td>\n",
       "    <\/tr>\n",
       "    <tr>\n",
       "      <th>dwa<\/th>\n",
       "      <td>2018<\/td>\n",
       "      <td>Warszawa<\/td>\n",
       "      <td>2.75<\/td>\n",
       "      <td>17.33<\/td>\n",
       "    <\/tr>\n",
       "    <tr>\n",
       "      <th>trzy<\/th>\n",
       "      <td>2019<\/td>\n",
       "      <td>Warszawa<\/td>\n",
       "      <td>2.93<\/td>\n",
       "      <td>1.10<\/td>\n",
       "    <\/tr>\n",
       "    <tr>\n",
       "      <th>cztery<\/th>\n",
       "      <td>2018<\/td>\n",
       "      <td>Kraków<\/td>\n",
       "      <td>0.85<\/td>\n",
       "      <td>6.70<\/td>\n",
       "    <\/tr>\n",
       "    <tr>\n",
       "      <th>pięc<\/th>\n",
       "      <td>2019<\/td>\n",
       "      <td>Kraków<\/td>\n",
       "      <td>0.88<\/td>\n",
       "      <td>0.44<\/td>\n",
       "    <\/tr>\n",
       "    <tr>\n",
       "      <th>sześc<\/th>\n",
       "      <td>2020<\/td>\n",
       "      <td>Kraków<\/td>\n",
       "      <td>0.91<\/td>\n",
       "      <td>2.00<\/td>\n",
       "    <\/tr>\n",
       "  <\/tbody>\n",
       "<\/table>\n",
       "<\/div>"
      ]
     },
     "metadata":{},
     "output_type":"display_data"
    }
   ],
   "metadata":{
    "datalore":{
     "node_id":"6v21A5nO53VBf87S31rbEq",
     "type":"CODE",
     "hide_input_from_viewers":true,
     "hide_output_from_viewers":true
    }
   }
  }
 ],
 "metadata":{
  "kernelspec":{
   "display_name":"Python",
   "language":"python",
   "name":"python"
  },
  "datalore":{
   "computation_mode":"JUPYTER",
   "package_manager":"pip",
   "base_environment":"default",
   "packages":[],
   "report_row_ids":[],
   "version":3
  }
 },
 "nbformat":4,
 "nbformat_minor":4
}