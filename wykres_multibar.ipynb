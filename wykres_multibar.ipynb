{
 "cells":[
  {
   "cell_type":"code",
   "source":[
    "import numpy as np\n",
    "import matplotlib.pyplot as plt\n",
    "import matplotlib as mpl\n",
    "from cycler import cycler"
   ],
   "execution_count":1,
   "outputs":[],
   "metadata":{
    "datalore":{
     "node_id":"yffXF00U9W7ipLc7CsvNaf",
     "type":"CODE",
     "hide_input_from_viewers":true,
     "hide_output_from_viewers":true
    }
   }
  },
  {
   "cell_type":"code",
   "source":[
    "#przygotowanie danych\n",
    "osoby = (\"Anna\",\"Piotr\",\"Olga\",\"Roman\")\n",
    "informacje = {\n",
    "    'wiek':(34,56,23,45),\n",
    "    'waga':(56.8,89.6,60.3,105.6),\n",
    "    'wzrost':(162,172,170,189)\n",
    "}"
   ],
   "execution_count":2,
   "outputs":[],
   "metadata":{
    "datalore":{
     "node_id":"U8eetTt2wuiQFCod7Q2DQA",
     "type":"CODE",
     "hide_input_from_viewers":true,
     "hide_output_from_viewers":true
    }
   }
  },
  {
   "cell_type":"code",
   "source":[
    "x = np.arange(len(osoby))\n",
    "width = 0.25\n",
    "multiplier = 0"
   ],
   "execution_count":3,
   "outputs":[],
   "metadata":{
    "datalore":{
     "node_id":"OfUOEfmY1pLetSpYQQx6PA",
     "type":"CODE",
     "hide_input_from_viewers":true,
     "hide_output_from_viewers":true
    }
   }
  },
  {
   "cell_type":"code",
   "source":[
    "fig,ax = plt.subplots(constrained_layout=True)\n",
    "for attribute,mesurement in informacje.items():\n",
    "    offset = width*multiplier\n",
    "    rects = ax.bar(x+offset,mesurement,width,label=attribute)\n",
    "    ax.bar_label(rects,padding=5)\n",
    "    multiplier += 1\n",
    "\n",
    "ax.set_ylabel('cecha')\n",
    "ax.set_title('wybrane informacje na temat osób')\n",
    "ax.set_xticks(x+width,osoby)\n",
    "ax.legend(loc='upper left', ncols=3)\n",
    "ax.set_ylim(0,200)\n",
    "plt.show()"
   ],
   "execution_count":4,
   "outputs":[
    {
     "data":{
      "image\/png":"[encoded data removed]"
     },
     "metadata":{
      "image\/png":{}
     },
     "output_type":"display_data"
    }
   ],
   "metadata":{
    "datalore":{
     "node_id":"tUwXcqk2FcxhTMgo3z9TKN",
     "type":"CODE",
     "hide_input_from_viewers":true,
     "hide_output_from_viewers":true
    }
   }
  },
  {
   "cell_type":"code",
   "source":[
    "plt.savefig(\"wykresmulti.jpg\",dpi=300)"
   ],
   "execution_count":7,
   "outputs":[
    {
     "data":{
      "text\/plain":[
       "<Figure size 432x288 with 0 Axes>"
      ]
     },
     "metadata":{},
     "output_type":"display_data"
    }
   ],
   "metadata":{
    "datalore":{
     "node_id":"bFOnSDbVutBs1CF1Qs1rIo",
     "type":"CODE",
     "hide_input_from_viewers":true,
     "hide_output_from_viewers":true
    }
   }
  }
 ],
 "metadata":{
  "kernelspec":{
   "display_name":"Python",
   "language":"python",
   "name":"python"
  },
  "datalore":{
   "computation_mode":"JUPYTER",
   "package_manager":"pip",
   "base_environment":"default",
   "packages":[],
   "report_row_ids":[],
   "version":3
  }
 },
 "nbformat":4,
 "nbformat_minor":4
}