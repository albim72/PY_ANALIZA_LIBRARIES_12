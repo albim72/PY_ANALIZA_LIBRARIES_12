{
 "cells":[
  {
   "cell_type":"code",
   "source":[
    "from textblob import TextBlob"
   ],
   "execution_count":9,
   "outputs":[],
   "metadata":{
    "datalore":{
     "node_id":"7y4DeVhN0B0yYf4F3cb4Rt",
     "type":"CODE",
     "hide_input_from_viewers":true,
     "hide_output_from_viewers":true
    }
   }
  },
  {
   "cell_type":"code",
   "source":[
    "#przykłdowe opinie\n",
    "opinions = [\n",
    "    \"This product is amazing and exceeded my expectations!\",\n",
    "    \"I think and I suppose that this product is quite qood and I think that exceeded my expectations!\",\n",
    "    \"I am disappointed with the quality and will not recommend it.\",\n",
    "    \"The service was okay, but it could be much better.\",\n",
    "    \"Big Shit!\",\n",
    "    \"Beautiful disaster!\"\n",
    "]"
   ],
   "execution_count":10,
   "outputs":[],
   "metadata":{
    "datalore":{
     "node_id":"5rpE63QWXsv6KlSFMYOqGv",
     "type":"CODE",
     "hide_input_from_viewers":true,
     "hide_output_from_viewers":true
    }
   }
  },
  {
   "cell_type":"code",
   "source":[
    "#analiza sentymentu\n",
    "for opinion in opinions:\n",
    "    blob = TextBlob(opinion)\n",
    "    sentiment = blob.sentiment\n",
    "    print(f\"\\nTekst: {opinion}\")\n",
    "    print(f\"polaryzcja: {sentiment.polarity:.2f} (od -1 do 1, gdzie 1 to pozytywny teskt a -1 negatywny)\")\n",
    "    print(f\"subiektywnośc: {sentiment.subjectivity:.2f} (od 0 do 1, gdzie 1 to subiektywny teskt a 0 niesubiektywny)\\n\")\n",
    "    print(\"_\"*50)"
   ],
   "execution_count":11,
   "outputs":[
    {
     "name":"stdout",
     "text":[
      "\n",
      "Tekst: This product is amazing and exceeded my expectations!\n",
      "polaryzcja: 0.75 (od -1 do 1, gdzie 1 to pozytywny teskt a -1 negatywny)\n",
      "subiektywnośc: 0.90 (od 0 do 1, gdzie 1 to subiektywny teskt a 0 niesubiektywny)\n",
      "\n",
      "__________________________________________________\n",
      "\n",
      "Tekst: I think and I suppose that this product is quite qood and I think that exceeded my expectations!\n",
      "polaryzcja: 0.00 (od -1 do 1, gdzie 1 to pozytywny teskt a -1 negatywny)\n",
      "subiektywnośc: 0.00 (od 0 do 1, gdzie 1 to subiektywny teskt a 0 niesubiektywny)\n",
      "\n",
      "__________________________________________________\n",
      "\n",
      "Tekst: I am disappointed with the quality and will not recommend it.\n",
      "polaryzcja: -0.75 (od -1 do 1, gdzie 1 to pozytywny teskt a -1 negatywny)\n",
      "subiektywnośc: 0.75 (od 0 do 1, gdzie 1 to subiektywny teskt a 0 niesubiektywny)\n",
      "\n",
      "__________________________________________________\n",
      "\n",
      "Tekst: The service was okay, but it could be much better.\n",
      "polaryzcja: 0.50 (od -1 do 1, gdzie 1 to pozytywny teskt a -1 negatywny)\n",
      "subiektywnośc: 0.50 (od 0 do 1, gdzie 1 to subiektywny teskt a 0 niesubiektywny)\n",
      "\n",
      "__________________________________________________\n",
      "\n",
      "Tekst: Big Shit!\n",
      "polaryzcja: -0.12 (od -1 do 1, gdzie 1 to pozytywny teskt a -1 negatywny)\n",
      "subiektywnośc: 0.45 (od 0 do 1, gdzie 1 to subiektywny teskt a 0 niesubiektywny)\n",
      "\n",
      "__________________________________________________\n",
      "\n",
      "Tekst: Beautiful disaster!\n",
      "polaryzcja: 1.00 (od -1 do 1, gdzie 1 to pozytywny teskt a -1 negatywny)\n",
      "subiektywnośc: 1.00 (od 0 do 1, gdzie 1 to subiektywny teskt a 0 niesubiektywny)\n",
      "\n",
      "__________________________________________________\n"
     ],
     "output_type":"stream"
    }
   ],
   "metadata":{
    "datalore":{
     "node_id":"eEBdx6rzs0j0pArm1tVdDZ",
     "type":"CODE",
     "hide_input_from_viewers":true,
     "hide_output_from_viewers":true
    }
   }
  },
  {
   "cell_type":"code",
   "source":[],
   "execution_count":null,
   "outputs":[],
   "metadata":{
    "datalore":{
     "node_id":"wpYz3kqfh0R3Ycbl7Z6sjY",
     "type":"CODE",
     "hide_input_from_viewers":true,
     "hide_output_from_viewers":true
    }
   }
  }
 ],
 "metadata":{
  "kernelspec":{
   "display_name":"Python",
   "language":"python",
   "name":"python"
  },
  "datalore":{
   "computation_mode":"JUPYTER",
   "package_manager":"pip",
   "base_environment":"default",
   "packages":[
    {
     "name":"textblob",
     "version":"0.18.0.post0",
     "source":"PIP"
    }
   ],
   "report_row_ids":[],
   "version":3
  }
 },
 "nbformat":4,
 "nbformat_minor":4
}