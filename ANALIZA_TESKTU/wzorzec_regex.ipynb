{
 "cells":[
  {
   "cell_type":"code",
   "source":[
    "import re"
   ],
   "execution_count":65,
   "outputs":[],
   "metadata":{
    "datalore":{
     "node_id":"QoYwAMVHACnx85WbhTSKzF",
     "type":"CODE",
     "hide_input_from_viewers":true,
     "hide_output_from_viewers":true
    }
   }
  },
  {
   "cell_type":"code",
   "source":[
    "#tekst do analizy\n",
    "text = \"\"\"\n",
    "Skontaktuj się z nami pod adresem support@example.pl lub admin@doamin.org.\n",
    "Możesz także napisac na adres: kontakt@firma.pl lub ad+s@p.pl, info@er.com.pl\n",
    "\"\"\""
   ],
   "execution_count":66,
   "outputs":[],
   "metadata":{
    "datalore":{
     "node_id":"q7N1JLGXU4PXRCtPoMqUyH",
     "type":"CODE",
     "hide_input_from_viewers":true,
     "hide_output_from_viewers":true
    }
   }
  },
  {
   "cell_type":"code",
   "source":[
    "#wzorzec - wyrażenie regularne\n",
    "email_pattern = r'[a-zA-Z0-9_.+-]+@[a-zA-Z0-9-.]+[a-zA-Z0-9-]+'"
   ],
   "execution_count":67,
   "outputs":[],
   "metadata":{
    "datalore":{
     "node_id":"FzH33QEqYPBzUIhQR9bsn9",
     "type":"CODE",
     "hide_input_from_viewers":true,
     "hide_output_from_viewers":true
    }
   }
  },
  {
   "cell_type":"code",
   "source":[
    "#wyszukiwanie emaili\n",
    "emails = re.findall(email_pattern,text)"
   ],
   "execution_count":68,
   "outputs":[],
   "metadata":{
    "datalore":{
     "node_id":"SfWmYCSa9RCbEDUonqWRYw",
     "type":"CODE",
     "hide_input_from_viewers":true,
     "hide_output_from_viewers":true
    }
   }
  },
  {
   "cell_type":"code",
   "source":[
    "#wynik\n",
    "print(\"Zanlezione adresy email:\")\n",
    "for email in emails:\n",
    "    print(email)"
   ],
   "execution_count":69,
   "outputs":[
    {
     "name":"stdout",
     "text":[
      "Zanlezione adresy email:\n",
      "support@example.pl\n",
      "admin@doamin.org\n",
      "kontakt@firma.pl\n",
      "ad+s@p.pl\n",
      "info@er.com.pl\n"
     ],
     "output_type":"stream"
    }
   ],
   "metadata":{
    "datalore":{
     "node_id":"8KHlhRhfJ1LM19K2wPiAMJ",
     "type":"CODE",
     "hide_input_from_viewers":true,
     "hide_output_from_viewers":true
    }
   }
  }
 ],
 "metadata":{
  "kernelspec":{
   "display_name":"Python",
   "language":"python",
   "name":"python"
  },
  "datalore":{
   "computation_mode":"JUPYTER",
   "package_manager":"pip",
   "base_environment":"default",
   "packages":[],
   "report_row_ids":[],
   "version":3
  }
 },
 "nbformat":4,
 "nbformat_minor":4
}